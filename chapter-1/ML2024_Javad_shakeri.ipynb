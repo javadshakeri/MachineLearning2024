{
  "nbformat": 4,
  "nbformat_minor": 0,
  "metadata": {
    "colab": {
      "provenance": [],
      "authorship_tag": "ABX9TyMkabZxfPPlEMmsr3mJwVyu",
      "include_colab_link": true
    },
    "kernelspec": {
      "name": "python3",
      "display_name": "Python 3"
    },
    "language_info": {
      "name": "python"
    }
  },
  "cells": [
    {
      "cell_type": "markdown",
      "metadata": {
        "id": "view-in-github",
        "colab_type": "text"
      },
      "source": [
        "<a href=\"https://colab.research.google.com/github/javadshakeri/MachineLearning2024/blob/main/chapter-1/ML2024_Javad_shakeri.ipynb\" target=\"_parent\"><img src=\"https://colab.research.google.com/assets/colab-badge.svg\" alt=\"Open In Colab\"/></a>"
      ]
    },
    {
      "cell_type": "markdown",
      "source": [
        "ML 2024 HW-1"
      ],
      "metadata": {
        "id": "xGt5D7Jz-lVV"
      }
    },
    {
      "cell_type": "code",
      "execution_count": 5,
      "metadata": {
        "colab": {
          "base_uri": "https://localhost:8080/"
        },
        "id": "YN7Lzsst-iSU",
        "outputId": "d10a7b81-fd8f-4be8-9690-829a58e9b706"
      },
      "outputs": [
        {
          "output_type": "stream",
          "name": "stdout",
          "text": [
            "hi Dear\n"
          ]
        }
      ],
      "source": [
        "print (\"hi Dear\")"
      ]
    }
  ]
}